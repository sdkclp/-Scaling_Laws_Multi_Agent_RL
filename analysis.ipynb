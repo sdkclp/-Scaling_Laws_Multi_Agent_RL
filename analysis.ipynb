{
 "cells": [
  {
   "cell_type": "code",
   "execution_count": 5,
   "metadata": {},
   "outputs": [
    {
     "name": "stdout",
     "output_type": "stream",
     "text": [
      "The autoreload extension is already loaded. To reload it, use:\n",
      "  %reload_ext autoreload\n"
     ]
    }
   ],
   "source": [
    "import tianshou\n",
    "import torch\n",
    "from tianshou.env.pettingzoo_env import PettingZooEnv\n",
    "from pettingzoo.mpe import simple_tag_v2\n",
    "from tianshou.data import Collector, VectorReplayBuffer\n",
    "from tianshou.env import DummyVectorEnv\n",
    "from tianshou.policy import (\n",
    "    BasePolicy,\n",
    "    DQNPolicy,\n",
    "    MultiAgentPolicyManager,\n",
    "    PPOPolicy,\n",
    "    RandomPolicy,\n",
    ")\n",
    "from tianshou.trainer import offpolicy_trainer\n",
    "from tianshou.utils.net.common import Net\n",
    "from utils import *\n",
    "import numpy as np\n",
    "from tensorboard.backend.event_processing.event_accumulator import EventAccumulator\n",
    "from argparse import Namespace\n",
    "\n",
    "from causal_ccm.causal_ccm import ccm\n",
    "\n",
    "\n",
    "%load_ext autoreload\n",
    "%autoreload 2\n"
   ]
  },
  {
   "cell_type": "code",
   "execution_count": null,
   "metadata": {},
   "outputs": [],
   "source": [
    "tau = 1\n",
    "E = 2\n",
    "env = simple_tag_v2\n",
    "names = ['adversary_0', 'adversary_1', 'adversary_2', 'agent_0']\n"
   ]
  },
  {
   "cell_type": "code",
   "execution_count": 38,
   "metadata": {},
   "outputs": [
    {
     "name": "stdout",
     "output_type": "stream",
     "text": [
      "['adversary_0', 'adversary_1', 'adversary_2', 'agent_0']\n"
     ]
    }
   ],
   "source": [
    "n = 5248\n",
    "seed = 1\n",
    "\n",
    "path = f\"log/tag/ppo/board/{n=}/{seed=}\"\n",
    "event_acc = EventAccumulator(path)\n",
    "event_acc.Reload()\n",
    "random_agent = 0\n",
    "assert random_agent != 4\n",
    "remaining_adv = [0,1,2].remove(random_agent) \n",
    "# Show all tags in the log file\n",
    "# print(event_acc.Tags())\n",
    "# print(event_acc.Tensors('args/text_summary')[0])\n",
    "args = eval(event_acc.Tensors('args/text_summary')[0].tensor_proto.string_val[0])\n",
    "args.device = 'cpu'\n",
    "epoch = 1\n",
    "checkpoint_path = f'log/tag/ppo/cp/{n=}/{seed=}/{epoch=}'\n",
    "args.resume_path = checkpoint_path\n",
    "\n",
    "policy, optim, agents, _ = get_agents(env, args, override_agent=[random_agent])\n",
    "print(agents)\n",
    "# policy.policies[agents[1]].load_state_dict(torch.load(f\"log/tag/ppo/{n}/{seed}/policy.pth\"))\n",
    "test_env = DummyVectorEnv([lambda: get_env(env) for i in range(10)])\n",
    "replay_buffer = VectorReplayBuffer(20_000, len(test_env))\n",
    "collector = Collector(policy, test_env, replay_buffer)\n",
    "\n",
    "ep = collector.collect(n_episode=10)\n",
    "\n",
    "data = replay_buffer.sample(0)[0]\n",
    "actions = {}\n",
    "for name in names:\n",
    "    agent_indices = data[\"obs\"]['agent_id'] == name\n",
    "    actions[name] = data['act'][agent_indices]\n",
    "\n",
    "L = len(actions[names[0]])\n",
    "\n",
    "ccms = {}\n",
    "for adv in remaining_adv:\n",
    "    adv_name = f\"adversary_{adv}\"\n",
    "    save_name = f'adversary_{random_agent}-on-{adv_name}'\n",
    "    if save_name not in ccms.keys():\n",
    "        ccms[save_name] = []\n",
    "    ccm1 = ccm(actions[f'adversary_{random_agent}'], actions[adv_name], tau, E, L)\n",
    "    ccms[save_name].append(ccm1.causality())\n"
   ]
  },
  {
   "cell_type": "code",
   "execution_count": 29,
   "metadata": {},
   "outputs": [],
   "source": [
    "# for i in range(1, 1001):\n",
    "#     for j in range(1, 6):\n",
    "#         path = f\"log/tag/ppo/cp/{n=}/seed={j}/epoch={i}\"\n",
    "#         for f in os.listdir(path):\n",
    "#             number = str(int(f.split(\"_\")[1].split(\".\")[0]) - 1)\n",
    "#             if \"prey\" in f:\n",
    "#                 new_path = path+\"/\"+f\"agent_{number}.pth\"\n",
    "#             elif \"pred\" in f:\n",
    "#                 new_path = path+\"/\"+f\"adversary_{number}.pth\"\n",
    "\n",
    "#             os.rename(path + \"/\" + f, new_path)"
   ]
  },
  {
   "cell_type": "code",
   "execution_count": 42,
   "metadata": {},
   "outputs": [
    {
     "data": {
      "text/plain": [
       "{'adversary_0': array([0, 3, 1, 3, 1, 2, 0, 0, 2, 4, 2, 2, 3, 3, 1, 1, 2, 4, 4, 4, 1, 2,\n",
       "        2, 0, 4, 3, 3, 1, 0, 1, 4, 2, 2, 0, 0, 0, 3, 4, 3, 0, 1, 1, 2, 3,\n",
       "        4, 1, 0, 1, 0, 4, 0, 4, 3, 0, 2, 2, 4, 0, 0, 1, 4, 3, 2, 3, 0, 2,\n",
       "        3, 2, 2, 1, 0, 0, 0, 3, 1, 3, 4, 0, 1, 2, 0, 4, 1, 4, 4, 2, 1, 0,\n",
       "        1, 2, 0, 3, 0, 3, 2, 0, 0, 2, 1, 4]),\n",
       " 'adversary_1': array([3, 0, 3, 4, 3, 0, 4, 3, 3, 1, 0, 3, 0, 1, 0, 1, 3, 4, 3, 0, 0, 0,\n",
       "        2, 0, 0, 0, 0, 2, 2, 2, 2, 3, 0, 1, 4, 0, 3, 4, 1, 3, 2, 1, 4, 2,\n",
       "        1, 1, 1, 0, 0, 4, 0, 2, 3, 0, 3, 0, 3, 0, 0, 1, 3, 2, 1, 0, 0, 1,\n",
       "        2, 4, 3, 2, 4, 0, 1, 1, 0, 4, 4, 3, 2, 4, 1, 0, 0, 0, 2, 0, 2, 4,\n",
       "        3, 0, 3, 3, 3, 3, 2, 2, 0, 1, 3, 2]),\n",
       " 'adversary_2': array([2, 0, 4, 2, 1, 1, 0, 1, 3, 4, 1, 1, 0, 1, 2, 2, 2, 3, 2, 2, 0, 1,\n",
       "        4, 4, 0, 4, 4, 4, 3, 2, 2, 0, 3, 0, 1, 0, 2, 1, 3, 3, 1, 2, 3, 0,\n",
       "        4, 4, 0, 2, 2, 1, 4, 2, 3, 2, 3, 1, 4, 2, 1, 1, 2, 4, 3, 0, 3, 1,\n",
       "        1, 1, 4, 0, 0, 3, 0, 1, 0, 3, 0, 1, 0, 3, 1, 4, 2, 2, 2, 1, 0, 0,\n",
       "        1, 1, 4, 3, 3, 2, 4, 2, 2, 1, 4, 4]),\n",
       " 'agent_0': array([1, 4, 4, 0, 4, 3, 4, 4, 0, 4, 3, 0, 3, 0, 0, 4, 3, 0, 1, 3, 3, 2,\n",
       "        3, 1, 1, 0, 1, 0, 0, 3, 4, 0, 3, 0, 3, 2, 2, 0, 0, 2, 2, 0, 1, 3,\n",
       "        3, 0, 3, 0, 3, 3, 2, 1, 0, 0, 2, 4, 4, 4, 4, 4, 1, 4, 1, 3, 0, 1,\n",
       "        2, 0, 4, 3, 2, 1, 2, 4, 3, 1, 1, 1, 1, 2, 0, 3, 1, 1, 0, 1, 2, 1,\n",
       "        4, 0, 3, 1, 0, 2, 4, 0, 3, 4, 1, 2])}"
      ]
     },
     "execution_count": 42,
     "metadata": {},
     "output_type": "execute_result"
    }
   ],
   "source": []
  },
  {
   "cell_type": "code",
   "execution_count": 47,
   "metadata": {},
   "outputs": [],
   "source": [
    "\n",
    "\n"
   ]
  },
  {
   "cell_type": "code",
   "execution_count": 48,
   "metadata": {},
   "outputs": [
    {
     "name": "stdout",
     "output_type": "stream",
     "text": [
      "(0.32399378201006884, 0.0010698915633965045)\n",
      "(0.31920221077058536, 0.0012802554183842904)\n",
      "(0.3570675093603619, 0.0002856028800481222)\n"
     ]
    }
   ],
   "source": [
    "print(ccm1.causality())\n",
    "print(ccm2.causality())\n",
    "print(ccm3.causality())"
   ]
  }
 ],
 "metadata": {
  "kernelspec": {
   "display_name": "Python 3.8.15 ('venv': venv)",
   "language": "python",
   "name": "python3"
  },
  "language_info": {
   "codemirror_mode": {
    "name": "ipython",
    "version": 3
   },
   "file_extension": ".py",
   "mimetype": "text/x-python",
   "name": "python",
   "nbconvert_exporter": "python",
   "pygments_lexer": "ipython3",
   "version": "3.10.10"
  },
  "orig_nbformat": 4,
  "vscode": {
   "interpreter": {
    "hash": "5da0800b6a6eec247e1fb5f9853a9b11e990aa90d7c0f82f78d7b94ca4e2a216"
   }
  }
 },
 "nbformat": 4,
 "nbformat_minor": 2
}
